{
 "cells": [
  {
   "cell_type": "code",
   "execution_count": 1,
   "metadata": {},
   "outputs": [],
   "source": [
    "# import tensorflow as tf\n",
    "import numpy as np\n",
    "import math"
   ]
  },
  {
   "cell_type": "code",
   "execution_count": 2,
   "metadata": {},
   "outputs": [],
   "source": [
    "# Simple function: (n * n) + 1\n",
    "input = np.array([1, 2, 3, 4, 5])\n",
    "ground_truth = np.array([0, 0, 1, 1, 1]).T\n",
    "output = np.shape(ground_truth)\n",
    "lr = 0.01\n",
    "\n",
    "# Set the random state to a fixed seed\n",
    "np.random.seed(0)\n",
    "\n",
    "# Initialize weights for each layer and bias\n",
    "w_1 = 2 * np.random.rand(5) - 1\n",
    "w_2 = 2 * np.random.rand(5).T - 1"
   ]
  },
  {
   "cell_type": "code",
   "execution_count": 3,
   "metadata": {},
   "outputs": [],
   "source": [
    "def sigmoid(x):\n",
    "    return 1 / (1 + (np.exp(-x)))"
   ]
  },
  {
   "cell_type": "code",
   "execution_count": 8,
   "metadata": {},
   "outputs": [
    {
     "name": "stdout",
     "output_type": "stream",
     "text": [
      "Loss:  0.02666286353951889\n",
      "Accuracy:  0.9743547416112394\n",
      "[0.02573467 0.02568115 0.97443978 0.97447742 0.97427232]\n"
     ]
    }
   ],
   "source": [
    "if __name__ == \"__main__\":\n",
    "\n",
    "    for i in range(6000):\n",
    "\n",
    "        \"\"\"\n",
    "            @TODO work out math and find a nicer way to implement gradient descent\n",
    "        \"\"\"\n",
    "        # Feed forward through the network\n",
    "        l1 = sigmoid(np.dot(input, w_1))\n",
    "        output = sigmoid(np.dot(l1, w_2))\n",
    "\n",
    "        # Sum of squared errors =  Sum( (answer - y)^2 )\n",
    "        loss = ground_truth - output\n",
    "        \n",
    "        \n",
    "        # Backpropagation \n",
    "        \n",
    "        # Loss with respect to my output layer\n",
    "        err_output = output * (1 - output) * loss\n",
    "        \n",
    "        # Get the direction of my minima\n",
    "        dw_2 = lr * err_output\n",
    "        \n",
    "        # Loss with respect to hidden layer\n",
    "        l1_loss = l1 * (1 - l1) * np.dot(err_output, w_1) \n",
    "        dw_1 = lr * (1 - l1)\n",
    "\n",
    "        # Nudge the weights in the wright direction\n",
    "        w_2 += dw_2\n",
    "        w_1 += dw_1\n",
    "\n",
    "        if i % 10000 == 0:\n",
    "            print(\"Loss: \", np.mean(np.abs(loss)))\n",
    "\n",
    "print(\"Accuracy: \", (1- np.mean(np.abs(loss))))\n",
    "print(output)"
   ]
  }
 ],
 "metadata": {
  "kernelspec": {
   "display_name": "Python 3",
   "language": "python",
   "name": "python3"
  },
  "language_info": {
   "codemirror_mode": {
    "name": "ipython",
    "version": 3
   },
   "file_extension": ".py",
   "mimetype": "text/x-python",
   "name": "python",
   "nbconvert_exporter": "python",
   "pygments_lexer": "ipython3",
   "version": "3.5.2"
  }
 },
 "nbformat": 4,
 "nbformat_minor": 2
}
