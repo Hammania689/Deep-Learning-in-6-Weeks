{
 "cells": [
  {
   "cell_type": "code",
   "execution_count": 1,
   "metadata": {},
   "outputs": [],
   "source": [
    "import tensorflow as tf\n",
    "import numpy as np"
   ]
  },
  {
   "cell_type": "code",
   "execution_count": null,
   "metadata": {},
   "outputs": [],
   "source": [
    "data_path = \"/home/data/cats_dogs/\"\n",
    "training_data = data_path + \"train/\"\n",
    "\n",
    "\n",
    "sess = tf.InteractiveSession()"
   ]
  },
  {
   "cell_type": "code",
   "execution_count": 26,
   "metadata": {
    "collapsed": true
   },
   "outputs": [
    {
     "data": {
      "text/plain": [
       "array([[[166],\n",
       "        [167],\n",
       "        [168],\n",
       "        ...,\n",
       "        [204],\n",
       "        [203],\n",
       "        [202]],\n",
       "\n",
       "       [[166],\n",
       "        [167],\n",
       "        [168],\n",
       "        ...,\n",
       "        [204],\n",
       "        [203],\n",
       "        [202]],\n",
       "\n",
       "       [[166],\n",
       "        [167],\n",
       "        [168],\n",
       "        ...,\n",
       "        [204],\n",
       "        [203],\n",
       "        [202]],\n",
       "\n",
       "       ...,\n",
       "\n",
       "       [[123],\n",
       "        [123],\n",
       "        [124],\n",
       "        ...,\n",
       "        [  2],\n",
       "        [  2],\n",
       "        [  2]],\n",
       "\n",
       "       [[122],\n",
       "        [122],\n",
       "        [123],\n",
       "        ...,\n",
       "        [  1],\n",
       "        [  1],\n",
       "        [  1]],\n",
       "\n",
       "       [[121],\n",
       "        [121],\n",
       "        [122],\n",
       "        ...,\n",
       "        [  1],\n",
       "        [  1],\n",
       "        [  1]]], dtype=uint8)"
      ]
     },
     "execution_count": 26,
     "metadata": {},
     "output_type": "execute_result"
    }
   ],
   "source": [
    "image = tf.image.decode_jpeg(tf.read_file(training_data + \"cat.0.jpg\"), channels=1)\n",
    "sess.run(image)"
   ]
  },
  {
   "cell_type": "code",
   "execution_count": null,
   "metadata": {},
   "outputs": [],
   "source": []
  }
 ],
 "metadata": {
  "kernelspec": {
   "display_name": "Python 3",
   "language": "python",
   "name": "python3"
  },
  "language_info": {
   "codemirror_mode": {
    "name": "ipython",
    "version": 3
   },
   "file_extension": ".py",
   "mimetype": "text/x-python",
   "name": "python",
   "nbconvert_exporter": "python",
   "pygments_lexer": "ipython3",
   "version": "3.5.2"
  }
 },
 "nbformat": 4,
 "nbformat_minor": 2
}
