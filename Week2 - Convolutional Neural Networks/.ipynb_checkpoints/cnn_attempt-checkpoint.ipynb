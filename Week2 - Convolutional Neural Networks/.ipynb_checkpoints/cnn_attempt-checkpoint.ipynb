{
 "cells": [
  {
   "cell_type": "code",
   "execution_count": 1,
   "metadata": {
    "collapsed": true
   },
   "outputs": [],
   "source": [
    "import numpy as np"
   ]
  },
  {
   "cell_type": "code",
   "execution_count": 2,
   "metadata": {
    "collapsed": true
   },
   "outputs": [],
   "source": [
    "class cnn():\n",
    "    pass"
   ]
  },
  {
   "cell_type": "code",
   "execution_count": 3,
   "metadata": {
    "collapsed": false,
    "scrolled": true
   },
   "outputs": [],
   "source": [
    "img = np.random.randint(0, 9, size=(3, 4, 4))\n",
    "np.random.seed(0)\n",
    "# img"
   ]
  },
  {
   "cell_type": "code",
   "execution_count": 4,
   "metadata": {
    "collapsed": true
   },
   "outputs": [],
   "source": [
    "# The beginning of each CNN is Convolution\n",
    "# Input Size of Image = l * w * #channels\n",
    "# Kernel/Filter = fl * fw * #channels\n",
    "# Stride = movement \n",
    "def convolution(input_Img):\n",
    "    # One filter accross the same three channels\n",
    "    filter_1 = np.random.randint(-10, 31, size=(3, np.shape(input_Img[2])[-2],np.shape(input_Img[2])[-1]))\n",
    "    \n",
    "    # Read in image\n",
    "    # Dot product of the image and filter accross all channels\n",
    "    conv_output = np.dot(input_Img, filter_1)\n",
    "    # Return the output \n",
    "    return conv_output"
   ]
  },
  {
   "cell_type": "code",
   "execution_count": 5,
   "metadata": {
    "collapsed": true
   },
   "outputs": [],
   "source": [
    "# Relu \n",
    "def relu(input_Img):\n",
    "    # If value is negative then replace with zero\n",
    "    np.place(input_Img, input_Img < 0, 0)\n",
    "    return input_Img"
   ]
  },
  {
   "cell_type": "code",
   "execution_count": null,
   "metadata": {
    "collapsed": false
   },
   "outputs": [],
   "source": [
    "# (Max) Pooling Layer\n",
    "def max_pool(feature_map):\n",
    "    # Pool filter ~ get the max within pfl * pfw * per each channel\n",
    "    F_spatial = 2\n",
    "    stride = 2\n",
    "    \n",
    "    # Get the current dimensions of the feature map\n",
    "    length = np.shape(feature_map)[0]\n",
    "    width = np.shape(feature_map)[1]\n",
    "    depth = np.shape(feature_map)[2]\n",
    "    \n",
    "    # Calculate the dimensions of the max pool filter to be applied\n",
    "    p_length = (length - F_spatial)/stride + 1\n",
    "    p_width = (width - F_spatial)/stride + 1\n",
    "    \n",
    "    pool_filter = np.zeros((p_length, p_width, depth))\n",
    "    \n",
    "    # Iterate through the filter over the current feature map and return a downsized feature map\n",
    "    for i in range(0, feature_map, 2):\n",
    "        for j in range(0,0):\n",
    "            \n"
   ]
  },
  {
   "cell_type": "code",
   "execution_count": 6,
   "metadata": {
    "collapsed": false
   },
   "outputs": [],
   "source": [
    "img = convolution(img)\n",
    "img = relu(img)"
   ]
  },
  {
   "cell_type": "code",
   "execution_count": 9,
   "metadata": {
    "collapsed": false
   },
   "outputs": [],
   "source": [
    "feature_map = img"
   ]
  },
  {
   "cell_type": "code",
   "execution_count": 10,
   "metadata": {
    "collapsed": false
   },
   "outputs": [
    {
     "data": {
      "text/plain": [
       "(4, 3, (3, 4, 3, 4))"
      ]
     },
     "execution_count": 10,
     "metadata": {},
     "output_type": "execute_result"
    }
   ],
   "source": [
    "# Pool filter ~ get the max within pfl * pfw * per each channel\n",
    "F_spatial = 2\n",
    "stride = 2\n",
    "    \n",
    "# Get the current dimensions of the feature map\n",
    "depth = np.shape(feature_map)[0]\n",
    "length = np.shape(feature_map)[1]\n",
    "width = np.shape(feature_map)[2]\n",
    "length,width, np.shape(feature_map)"
   ]
  },
  {
   "cell_type": "code",
   "execution_count": 11,
   "metadata": {
    "collapsed": false
   },
   "outputs": [
    {
     "data": {
      "text/plain": [
       "(2, 1, 3, (3, 4, 3, 4))"
      ]
     },
     "execution_count": 11,
     "metadata": {},
     "output_type": "execute_result"
    }
   ],
   "source": [
    "# Calculate the dimensions of the max pool filter to be applied\n",
    "p_length = (length - F_spatial) // stride + 1\n",
    "p_width = (width - F_spatial) // stride + 1\n",
    "p_length, p_width, depth\n",
    "\n",
    "\n",
    "reshape_Dimensions = np.shape(img)\n",
    "p_length, p_width, depth, reshape_Dimensions"
   ]
  },
  {
   "cell_type": "code",
   "execution_count": 12,
   "metadata": {
    "collapsed": false
   },
   "outputs": [
    {
     "data": {
      "text/plain": [
       "array([[[[[[ 77,   0],\n",
       "           [258, 445]],\n",
       "\n",
       "          [[154, 137],\n",
       "           [ 71, 172]],\n",
       "\n",
       "          [[478, 309],\n",
       "           [ 54, 207]]],\n",
       "\n",
       "\n",
       "         [[[110,   0],\n",
       "           [196, 199]],\n",
       "\n",
       "          [[ 50,  72],\n",
       "           [ 35,  82]],\n",
       "\n",
       "          [[251, 171],\n",
       "           [ 54, 176]]]],\n",
       "\n",
       "\n",
       "\n",
       "        [[[[ 90,   0],\n",
       "           [315, 431]],\n",
       "\n",
       "          [[ 39, 154],\n",
       "           [181, 233]],\n",
       "\n",
       "          [[433, 203],\n",
       "           [171, 308]]],\n",
       "\n",
       "\n",
       "         [[[ 10,   0],\n",
       "           [173, 438]],\n",
       "\n",
       "          [[133, 155],\n",
       "           [111, 240]],\n",
       "\n",
       "          [[411, 229],\n",
       "           [ 99, 182]]]]],\n",
       "\n",
       "\n",
       "\n",
       "\n",
       "       [[[[[  0,   0],\n",
       "           [231, 557]],\n",
       "\n",
       "          [[173, 169],\n",
       "           [133, 245]],\n",
       "\n",
       "          [[530, 297],\n",
       "           [ 81, 189]]],\n",
       "\n",
       "\n",
       "         [[[ 28,   0],\n",
       "           [182, 403]],\n",
       "\n",
       "          [[ 88, 160],\n",
       "           [137, 262]],\n",
       "\n",
       "          [[371, 185],\n",
       "           [144, 222]]]],\n",
       "\n",
       "\n",
       "\n",
       "        [[[[ 21,   0],\n",
       "           [ 96, 250]],\n",
       "\n",
       "          [[114,  83],\n",
       "           [ 20, 112]],\n",
       "\n",
       "          [[257, 178],\n",
       "           [ 18,  85]]],\n",
       "\n",
       "\n",
       "         [[[ 35,   0],\n",
       "           [119, 158]],\n",
       "\n",
       "          [[ 13,  56],\n",
       "           [ 67,  84]],\n",
       "\n",
       "          [[160,  75],\n",
       "           [ 63, 115]]]]],\n",
       "\n",
       "\n",
       "\n",
       "\n",
       "       [[[[[  7,   0],\n",
       "           [ 96, 394]],\n",
       "\n",
       "          [[186, 151],\n",
       "           [ 38, 230]],\n",
       "\n",
       "          [[377, 256],\n",
       "           [ 54, 127]]],\n",
       "\n",
       "\n",
       "         [[[ 17,   0],\n",
       "           [126, 417]],\n",
       "\n",
       "          [[144, 178],\n",
       "           [ 96, 293]],\n",
       "\n",
       "          [[381, 222],\n",
       "           [126, 195]]]],\n",
       "\n",
       "\n",
       "\n",
       "        [[[[ 15,   0],\n",
       "           [235, 258]],\n",
       "\n",
       "          [[  0,  67],\n",
       "           [198, 111]],\n",
       "\n",
       "          [[229,  30],\n",
       "           [135, 191]]],\n",
       "\n",
       "\n",
       "         [[[  0,   0],\n",
       "           [105, 361]],\n",
       "\n",
       "          [[ 81, 148],\n",
       "           [134, 260]],\n",
       "\n",
       "          [[299, 130],\n",
       "           [135, 163]]]]]])"
      ]
     },
     "execution_count": 12,
     "metadata": {},
     "output_type": "execute_result"
    }
   ],
   "source": [
    "# Reshape the Feature Maps\n",
    "test = feature_map\n",
    "test = test.reshape(depth, p_length, p_length, depth, p_length, p_length)\n",
    "test\n",
    "# np.size(test) // (4*4*3)"
   ]
  },
  {
   "cell_type": "code",
   "execution_count": null,
   "metadata": {
    "collapsed": false
   },
   "outputs": [],
   "source": [
    "test[0][0][0][0]"
   ]
  }
 ],
 "metadata": {
  "kernelspec": {
   "display_name": "Python 3",
   "language": "python",
   "name": "python3"
  },
  "language_info": {
   "codemirror_mode": {
    "name": "ipython",
    "version": 3
   },
   "file_extension": ".py",
   "mimetype": "text/x-python",
   "name": "python",
   "nbconvert_exporter": "python",
   "pygments_lexer": "ipython3",
   "version": "3.5.4"
  }
 },
 "nbformat": 4,
 "nbformat_minor": 2
}
