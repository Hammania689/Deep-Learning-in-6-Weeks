{
 "cells": [
  {
   "cell_type": "code",
   "execution_count": 1,
   "metadata": {
    "collapsed": true
   },
   "outputs": [],
   "source": [
    "\"\"\"\n",
    "This is a primitative convolutional neural network.\n",
    "\n",
    "Problems: \n",
    "There is only one image.\n",
    "Bais is absent from my calculations\n",
    "Prediction would rely on afore mentioned problems therefore it does not work.\n",
    "\"\"\"\n",
    "import numpy as np\n",
    "from numpy import *"
   ]
  },
  {
   "cell_type": "code",
   "execution_count": 2,
   "metadata": {
    "collapsed": true
   },
   "outputs": [],
   "source": [
    "class cnn():\n",
    "    pass"
   ]
  },
  {
   "cell_type": "code",
   "execution_count": 3,
   "metadata": {
    "collapsed": false,
    "scrolled": true
   },
   "outputs": [
    {
     "data": {
      "text/plain": [
       "array([[[2, 2, 5, 5],\n",
       "        [1, 8, 4, 3],\n",
       "        [0, 2, 4, 0],\n",
       "        [0, 5, 4, 4]],\n",
       "\n",
       "       [[0, 6, 4, 4],\n",
       "        [6, 2, 5, 8],\n",
       "        [1, 3, 1, 7],\n",
       "        [2, 2, 4, 7]],\n",
       "\n",
       "       [[4, 0, 2, 7],\n",
       "        [2, 4, 7, 1],\n",
       "        [1, 8, 6, 2],\n",
       "        [6, 6, 1, 1]]])"
      ]
     },
     "execution_count": 3,
     "metadata": {},
     "output_type": "execute_result"
    }
   ],
   "source": [
    "img = np.random.randint(0, 9, size=(3, 4, 4))\n",
    "num_of_classes = 144\n",
    "\n",
    "np.random.seed(0)\n",
    "img"
   ]
  },
  {
   "cell_type": "code",
   "execution_count": 4,
   "metadata": {
    "collapsed": false
   },
   "outputs": [],
   "source": [
    "# The beginning of each CNN is Convolution\n",
    "# Input Size of Image = l * w * #channels\n",
    "# Kernel/Filter = fl * fw * #channels\n",
    "# Stride = movement \n",
    "def convolution(input_Img):\n",
    "    # One filter accross the same three channels\n",
    "    filter_1 = np.random.randint(-10, 31, size=(3, 4, 4))\n",
    "    \n",
    "    # Read in image\n",
    "    # Dot product of the image and filter accross all channels\n",
    "    conv_output = np.dot(input_Img, filter_1)\n",
    "    \n",
    "    # Reshape after convolution ~ depth * (depth * length) * width\n",
    "    conv_output = np.reshape(conv_output, (3, 12, 4))\n",
    "    \n",
    "    # Return the output \n",
    "    return conv_output"
   ]
  },
  {
   "cell_type": "code",
   "execution_count": 5,
   "metadata": {
    "collapsed": true
   },
   "outputs": [],
   "source": [
    "# Relu \n",
    "def relu(input_Img):\n",
    "    # If value is negative then replace with zero\n",
    "    np.place(input_Img, input_Img < 0, 0)\n",
    "    return input_Img"
   ]
  },
  {
   "cell_type": "code",
   "execution_count": 6,
   "metadata": {
    "collapsed": false
   },
   "outputs": [],
   "source": [
    "def max_pool(feature_map):\n",
    "    # Pool filter ~ get the max within pfl * pfw * per each channel\n",
    "    F_spatial = 2\n",
    "    stride = 2\n",
    "\n",
    "    # print(\"Expected Size\", np.size(feature_map))\n",
    "    # Get the current dimensions of the feature map\n",
    "    depth = np.shape(feature_map)[0]\n",
    "    length = np.shape(feature_map)[1]\n",
    "    width = np.shape(feature_map)[2]\n",
    "    length,width, np.shape(feature_map)\n",
    "\n",
    "    # Calculate the dimensions of the max pool filter to be applied\n",
    "    p_length = (length - F_spatial) // stride + 1\n",
    "    p_width = (width - F_spatial) // stride + 1\n",
    "    print('Input dimensions: ',np.shape(feature_map))\n",
    "    print('Pool dimensions:', '(p_length :', p_length,', p_width :', p_width, ', depth :', depth, ')\\n')\n",
    "\n",
    "    # Left to Right Depth slice \n",
    "    left = feature_map[:,:,0:-2]\n",
    "    right = feature_map[:,:,-2:]\n",
    "    # print('Output',np.shape(left))\n",
    "    \n",
    "    # Reshape to get\n",
    "    left = np.reshape(left, (depth, p_length, p_width, p_width))\n",
    "    right = np.reshape(right, (depth, p_length, p_width, p_width))\n",
    "    max_pool = np.array((), dtype=int)\n",
    "\n",
    "    print('loop',len(left[:][:][:]))\n",
    "    for x in range(0, depth):\n",
    "            # print(x)\n",
    "            for y in range(0, p_length):\n",
    "                # Uncomment to see left to right depth slice\n",
    "                #print (left[x][y][:],'\\nMax from left:',np.max(left[x][y][:]), '\\n\\n', right[x][y][:], '\\nMax from right:',np.max(right[x][y][:]), '\\n\\n')  \n",
    "\n",
    "                # Append max value from left depth slice then append from right depth slice\n",
    "                max_pool = np.append(max_pool, np.max(left[x][y][:]))\n",
    "                max_pool = np.append(max_pool, np.max(right[x][y][:]))\n",
    "\n",
    "                # print(np.shape(max_pool))\n",
    "    max_pool = np.reshape(max_pool, (depth, p_length, p_width))\n",
    "    return max_pool"
   ]
  },
  {
   "cell_type": "code",
   "execution_count": 10,
   "metadata": {
    "collapsed": true
   },
   "outputs": [],
   "source": [
    "def fc_layer(feature_map):\n",
    "    weighted_vector = np.reshape(feature_map, (1, num_of_classes))\n",
    "    weighted_vector = softmax_layer2D(weighted_vector)\n",
    "    return weighted_vector\n",
    "\n",
    "def softmax_layer2D(w):\n",
    "        #this function will calculate the probabilities of each\n",
    "        #target class over all possible target classes. \n",
    "\t\tmaxes = np.amax(w, axis=1)\n",
    "\t\tmaxes = maxes.reshape(maxes.shape[0], 1)\n",
    "\t\te = np.exp(w - maxes)\n",
    "\t\tdist = e / np.sum(e, axis=1, keepdims=True)\n",
    "\t\treturn dist"
   ]
  },
  {
   "cell_type": "code",
   "execution_count": 8,
   "metadata": {
    "collapsed": false
   },
   "outputs": [
    {
     "name": "stdout",
     "output_type": "stream",
     "text": [
      "Feature Map\n",
      "===========================================\n",
      " [[[ 53   0 218 325]\n",
      "  [ 56 104 110 147]\n",
      "  [331 172  90 191]\n",
      "  [ 40  22 221 380]\n",
      "  [143  86  46  81]\n",
      "  [414 272   0 120]\n",
      "  [ 50   2  78 108]\n",
      "  [ 70  30   0  18]\n",
      "  [146 128   0  50]\n",
      "  [ 55   0 223 302]\n",
      "  [ 75  71  70  71]\n",
      "  [333 198  27 143]]\n",
      "\n",
      " [[ 54   2 234 328]\n",
      "  [ 90  74  68  70]\n",
      "  [362 220  18 142]\n",
      "  [ 19   0 274 528]\n",
      "  [ 78 184 213 297]\n",
      "  [482 211 180 279]\n",
      "  [ 14   0 236 324]\n",
      "  [  0  85 171 127]\n",
      "  [303 103 108 182]\n",
      "  [ 44   0 260 369]\n",
      "  [ 26 114 165 170]\n",
      "  [359 153 126 226]]\n",
      "\n",
      " [[  0   0 196 347]\n",
      "  [  2 124 193 216]\n",
      "  [295  85 162 210]\n",
      "  [ 69   0 156 289]\n",
      "  [146  90   0  99]\n",
      "  [333 254   0 119]\n",
      "  [ 64  23 221 379]\n",
      "  [173  90  11  77]\n",
      "  [433 313   0 122]\n",
      "  [  0   0  66 373]\n",
      "  [168 116  50 175]\n",
      "  [335 208  18  55]]] \n",
      "\n",
      "\n",
      "Input dimensions:  (3, 12, 4)\n",
      "Pool dimensions: (p_length : 6 , p_width : 2 , depth : 3 )\n",
      "\n",
      "loop 3\n",
      "Pooled Feature Map\n",
      "======================\n",
      " [[[104 325]\n",
      "  [331 380]\n",
      "  [414 120]\n",
      "  [ 70 108]\n",
      "  [146 302]\n",
      "  [333 143]]\n",
      "\n",
      " [[ 90 328]\n",
      "  [362 528]\n",
      "  [482 297]\n",
      "  [ 85 324]\n",
      "  [303 369]\n",
      "  [359 226]]\n",
      "\n",
      " [[124 347]\n",
      "  [295 289]\n",
      "  [333 119]\n",
      "  [173 379]\n",
      "  [433 373]\n",
      "  [335 175]]]\n"
     ]
    }
   ],
   "source": [
    "img = convolution(img)\n",
    "# img\n",
    "\n",
    "img = relu(img)\n",
    "print(\"Feature Map\\n===========================================\\n\", img, '\\n\\n')\n",
    "\n",
    "pooled_img = max_pool(img)\n",
    "print('Pooled Feature Map\\n======================\\n',pooled_img)"
   ]
  },
  {
   "cell_type": "code",
   "execution_count": 12,
   "metadata": {
    "collapsed": false
   },
   "outputs": [
    {
     "data": {
      "text/plain": [
       "array([[  5.13004407e-207,   4.92621719e-230,   2.33727929e-135,\n",
       "          6.89001510e-089,   1.03039690e-205,   7.23002290e-185,\n",
       "          2.91679942e-182,   3.41823876e-166,   2.77963048e-086,\n",
       "          2.46129938e-155,   6.01197168e-191,   4.39298377e-147,\n",
       "          1.15955895e-212,   1.76600593e-220,   4.69455094e-134,\n",
       "          5.30171867e-065,   6.26072268e-168,   1.10113102e-192,\n",
       "          4.67799467e-210,   7.41936248e-195,   3.09335001e-050,\n",
       "          6.61626106e-112,   4.92621719e-230,   6.42467826e-178,\n",
       "          2.55409855e-208,   3.64000951e-229,   3.69388307e-196,\n",
       "          3.94745875e-183,   1.23915972e-199,   5.26438948e-217,\n",
       "          4.92621719e-230,   3.23455268e-222,   1.25749977e-166,\n",
       "          1.91516960e-174,   4.92621719e-230,   2.55409855e-208,\n",
       "          3.79061834e-206,   4.92621719e-230,   3.46883002e-133,\n",
       "          7.07045056e-099,   1.83907609e-197,   3.36838535e-199,\n",
       "          1.23915972e-199,   3.36838535e-199,   2.05388455e-085,\n",
       "          4.81749166e-144,   2.62098519e-218,   6.26072268e-168,\n",
       "          1.39449056e-206,   3.64000951e-229,   2.07693220e-128,\n",
       "          1.38389653e-087,   6.01197168e-191,   6.76558284e-198,\n",
       "          1.67702032e-200,   1.23915972e-199,   8.07450679e-073,\n",
       "          1.72702878e-134,   3.23455268e-222,   2.30319116e-168,\n",
       "          8.79242579e-222,   4.92621719e-230,   4.88879241e-111,\n",
       "          1.00000000e+000,   3.69388307e-196,   4.00588267e-150,\n",
       "          1.57484639e-137,   4.76403211e-101,   1.05306174e-020,\n",
       "          2.13132283e-138,   7.33703005e-152,   7.25561126e-109,\n",
       "          5.92428989e-224,   4.92621719e-230,   1.53465686e-127,\n",
       "          2.53469490e-089,   4.92621719e-230,   4.05083466e-193,\n",
       "          9.05461441e-156,   7.04551521e-175,   1.92194773e-098,\n",
       "          2.65977679e-185,   3.94745875e-183,   5.42137266e-151,\n",
       "          6.33097734e-211,   4.92621719e-230,   4.06517129e-117,\n",
       "          8.85477188e-070,   9.64206566e-219,   1.59251852e-180,\n",
       "          2.24441452e-158,   3.33100649e-156,   4.02006022e-074,\n",
       "          1.37901594e-163,   2.59190020e-175,   6.96733135e-132,\n",
       "          4.92621719e-230,   4.92621719e-230,   6.51976599e-145,\n",
       "          2.47001036e-079,   3.64000951e-229,   3.50775547e-176,\n",
       "          3.24600035e-146,   3.16316354e-136,   6.44741635e-102,\n",
       "          4.05083466e-193,   1.11742819e-159,   7.84069851e-139,\n",
       "          4.55861386e-200,   4.92621719e-230,   2.76982756e-162,\n",
       "          1.59815473e-104,   1.25749977e-166,   6.01197168e-191,\n",
       "          4.92621719e-230,   4.87155111e-187,   2.05388455e-085,\n",
       "          1.00765522e-119,   4.92621719e-230,   2.36350705e-178,\n",
       "          3.07156986e-202,   4.80050182e-220,   4.69455094e-134,\n",
       "          1.95039330e-065,   6.69050538e-155,   6.01197168e-191,\n",
       "          2.94953026e-225,   1.35890364e-196,   5.52108228e-042,\n",
       "          4.23337159e-094,   4.92621719e-230,   4.74723081e-177,\n",
       "          4.92621719e-230,   4.92621719e-230,   2.26960020e-201,\n",
       "          4.83454164e-068,   4.50802707e-157,   1.17672087e-179,\n",
       "          2.55409855e-208,   4.94365196e-154,   1.51762682e-084,\n",
       "          1.06112315e-139,   3.23455268e-222,   3.79061834e-206]])"
      ]
     },
     "execution_count": 12,
     "metadata": {},
     "output_type": "execute_result"
    }
   ],
   "source": [
    "output = fc_layer(img)\n",
    "output"
   ]
  }
 ],
 "metadata": {
  "kernelspec": {
   "display_name": "Python 3",
   "language": "python",
   "name": "python3"
  },
  "language_info": {
   "codemirror_mode": {
    "name": "ipython",
    "version": 3
   },
   "file_extension": ".py",
   "mimetype": "text/x-python",
   "name": "python",
   "nbconvert_exporter": "python",
   "pygments_lexer": "ipython3",
   "version": "3.5.4"
  }
 },
 "nbformat": 4,
 "nbformat_minor": 2
}
