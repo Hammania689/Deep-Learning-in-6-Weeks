{
 "cells": [
  {
   "cell_type": "code",
   "execution_count": 1,
   "metadata": {},
   "outputs": [],
   "source": [
    "import tensorflow as tf"
   ]
  },
  {
   "cell_type": "code",
   "execution_count": 2,
   "metadata": {},
   "outputs": [],
   "source": [
    "class Model:\n",
    "    pass\n"
   ]
  },
  {
   "cell_type": "code",
   "execution_count": 3,
   "metadata": {},
   "outputs": [
    {
     "ename": "SyntaxError",
     "evalue": "invalid syntax (<ipython-input-3-8acdfb81d07e>, line 6)",
     "output_type": "error",
     "traceback": [
      "\u001b[0;36m  File \u001b[0;32m\"<ipython-input-3-8acdfb81d07e>\"\u001b[0;36m, line \u001b[0;32m6\u001b[0m\n\u001b[0;31m    sess.run(input_layer.eval())\u001b[0m\n\u001b[0m       ^\u001b[0m\n\u001b[0;31mSyntaxError\u001b[0m\u001b[0;31m:\u001b[0m invalid syntax\n"
     ]
    }
   ],
   "source": [
    "with tf.InteractiveSession() as sess:\n",
    "    # Input layer\n",
    "    # Each image is 32 * 32 * 3\n",
    "    input_layer = tf.Variable(tf.shape((32,32,3), out_type=tf.float64, name=\"input\")\n",
    "\n",
    "    input_layer.eval()\n",
    "    # Convolutional Layer 1\n",
    "    # Takes the default cifar image (32 * 32 * 3) = 3074\n",
    "    # Filter size of (5 * 5 * 3) = 75\n",
    "    # Stride of 3 \n",
    "    # Zero Padding\n",
    "    # conv_1 = tf.layers.conv2d(inputs=input_layer, filters=5, kernel_size=(8,8), strides=(1), padding='same', activation='relu')\n",
    "\n",
    "    # pool1 = tf.layers.max_pooling2d(inputs=conv_1, pool_size=(4,4), strides=(1))\n"
   ]
  }
 ],
 "metadata": {
  "kernelspec": {
   "display_name": "Python 3",
   "language": "python",
   "name": "python3"
  },
  "language_info": {
   "codemirror_mode": {
    "name": "ipython",
    "version": 3
   },
   "file_extension": ".py",
   "mimetype": "text/x-python",
   "name": "python",
   "nbconvert_exporter": "python",
   "pygments_lexer": "ipython3",
   "version": "3.5.2"
  }
 },
 "nbformat": 4,
 "nbformat_minor": 2
}
