{
 "cells": [
  {
   "cell_type": "code",
   "execution_count": 1,
   "metadata": {},
   "outputs": [],
   "source": [
    "import tensorflow as tf"
   ]
  },
  {
   "cell_type": "code",
   "execution_count": 4,
   "metadata": {},
   "outputs": [],
   "source": [
    "class Model:\n",
    "    pass"
   ]
  },
  {
   "cell_type": "code",
   "execution_count": 3,
   "metadata": {},
   "outputs": [
    {
     "ename": "SyntaxError",
     "evalue": "invalid syntax (<ipython-input-3-a507bfb11f5b>, line 1)",
     "output_type": "error",
     "traceback": [
      "\u001b[0;36m  File \u001b[0;32m\"<ipython-input-3-a507bfb11f5b>\"\u001b[0;36m, line \u001b[0;32m1\u001b[0m\n\u001b[0;31m    W = tf.Variable(,name=\"Weights\")\u001b[0m\n\u001b[0m                    ^\u001b[0m\n\u001b[0;31mSyntaxError\u001b[0m\u001b[0;31m:\u001b[0m invalid syntax\n"
     ]
    }
   ],
   "source": [
    "W = tf.Variable(,name=\"Weights\")\n",
    "B = tf.Variable(,name=\"Bias\")\n",
    "\n",
    "conv1 = tf.nn.conv2d(\n",
    "    input=,\n",
    "    filter=,\n",
    "    strides=,\n",
    "    padding=,\n",
    "    use_cudnn_on_gpu=True,\n",
    "    name=\"Conv1\"\n",
    ")\n",
    "\n",
    "relu1 = tf.nn.relu(\n",
    "    features=conv1,\n",
    "    name=\"Relu1\"\n",
    ")\n",
    "\n",
    "pool1 = tf.nn.pool(\n",
    "    input=relu1,\n",
    "    window_shape=, \n",
    "    pooling_type=,\n",
    "    padding=,\n",
    "    name=\"Pool1\"\n",
    ")\n",
    "\n",
    "conv2 = tf.nn.conv2d(\n",
    "    input=pool1,\n",
    "    filter=,\n",
    "    strides=,\n",
    "    padding=\n",
    "    use_cudnn_on_gpu=True,\n",
    "    name=\"Conv2\"\n",
    ")\n",
    "\n",
    "relu2 = tf.nn.conv2d(\n",
    "    features=conv2,\n",
    "    name=\"Relu2\"\n",
    ")\n",
    "\n",
    "pool2 = tf.nn.pool(\n",
    "    input=relu2,\n",
    "    window_shape=, \n",
    "    pooling_type=,\n",
    "    padding=,\n",
    "    name=\"Pool2\"\n",
    ")\n",
    "\n",
    "#        TODO:\n",
    "# Flatten feature maps (FC layer)\n",
    "# Calculate and Optimize loss (Back Propagation)\n",
    "# Calculate logits \n",
    "# Pass logits to Softmax\n",
    "\n",
    "activation = tf.nnsoftmax(logits=, name=\"Softmax\")"
   ]
  }
 ],
 "metadata": {
  "kernelspec": {
   "display_name": "Python 3",
   "language": "python",
   "name": "python3"
  },
  "language_info": {
   "codemirror_mode": {
    "name": "ipython",
    "version": 3
   },
   "file_extension": ".py",
   "mimetype": "text/x-python",
   "name": "python",
   "nbconvert_exporter": "python",
   "pygments_lexer": "ipython3",
   "version": "3.5.2"
  }
 },
 "nbformat": 4,
 "nbformat_minor": 2
}
